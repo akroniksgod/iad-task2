{
 "cells": [
  {
   "cell_type": "code",
   "execution_count": 1,
   "id": "df03bd0b-a97c-4ae5-b3c9-595b0095a752",
   "metadata": {},
   "outputs": [],
   "source": [
    "import numpy as np\n",
    "import matplotlib.pyplot as plt\n",
    "import random"
   ]
  },
  {
   "cell_type": "code",
   "execution_count": 2,
   "id": "4a29f98e-d639-42c9-868a-d44056f3bfc6",
   "metadata": {},
   "outputs": [],
   "source": [
    "def step():\n",
    "    #import random - я думаю, что этот импорт замедляет программу\n",
    "    return 1. if random.random() > .5 else -1."
   ]
  },
  {
   "cell_type": "code",
   "execution_count": 3,
   "id": "b9fe6f52-402b-4201-bb89-4da3ab4c151f",
   "metadata": {},
   "outputs": [],
   "source": [
    "def walk(n):\n",
    "    x = np.zeros(n)\n",
    "    dx = 1. / n\n",
    "    for i in range(n - 1):\n",
    "        x_new = x[i] + dx * step()\n",
    "        if x_new > 5e-3:\n",
    "            x[i + 1] = 0.\n",
    "        else:\n",
    "            x[i + 1] = x_new\n",
    "    return x"
   ]
  },
  {
   "cell_type": "code",
   "execution_count": 4,
   "id": "3f8e014c-a1f7-44d9-a7b1-323caac2d2da",
   "metadata": {},
   "outputs": [],
   "source": [
    "n = 100000\n",
    "x = walk(n)"
   ]
  },
  {
   "cell_type": "code",
   "execution_count": 5,
   "id": "ea4091e4-f8ec-4439-b22d-ce1d3af0ff10",
   "metadata": {},
   "outputs": [
    {
     "name": "stdout",
     "output_type": "stream",
     "text": [
      "33.2 ms ± 287 µs per loop (mean ± std. dev. of 7 runs, 10 loops each)\n"
     ]
    }
   ],
   "source": [
    "t1 = %timeit -o walk(n)"
   ]
  },
  {
   "cell_type": "code",
   "execution_count": 6,
   "id": "d5870775-61cd-4cdb-95f4-3241870c1553",
   "metadata": {},
   "outputs": [
    {
     "data": {
      "text/plain": [
       "0.032812429999466985"
      ]
     },
     "execution_count": 6,
     "metadata": {},
     "output_type": "execute_result"
    }
   ],
   "source": [
    "t1.best"
   ]
  },
  {
   "cell_type": "code",
   "execution_count": 7,
   "id": "94251b5c-4658-4243-bf0e-5a54624ddca8",
   "metadata": {},
   "outputs": [
    {
     "name": "stdout",
     "output_type": "stream",
     "text": [
      " "
     ]
    },
    {
     "data": {
      "text/plain": [
       "         200003 function calls in 0.094 seconds\n",
       "\n",
       "   Ordered by: internal time\n",
       "\n",
       "   ncalls  tottime  percall  cumtime  percall filename:lineno(function)\n",
       "        1    0.053    0.053    0.094    0.094 2505900611.py:1(walk)\n",
       "    99999    0.031    0.000    0.041    0.000 3449092153.py:1(step)\n",
       "    99999    0.010    0.000    0.010    0.000 {method 'random' of '_random.Random' objects}\n",
       "        1    0.000    0.000    0.000    0.000 {built-in method numpy.zeros}\n",
       "        1    0.000    0.000    0.094    0.094 {built-in method builtins.exec}\n",
       "        1    0.000    0.000    0.094    0.094 <string>:1(<module>)\n",
       "        1    0.000    0.000    0.000    0.000 {method 'disable' of '_lsprof.Profiler' objects}"
      ]
     },
     "metadata": {},
     "output_type": "display_data"
    }
   ],
   "source": [
    "%%prun\n",
    "walk(n)"
   ]
  }
 ],
 "metadata": {
  "kernelspec": {
   "display_name": "Python 3 (ipykernel)",
   "language": "python",
   "name": "python3"
  },
  "language_info": {
   "codemirror_mode": {
    "name": "ipython",
    "version": 3
   },
   "file_extension": ".py",
   "mimetype": "text/x-python",
   "name": "python",
   "nbconvert_exporter": "python",
   "pygments_lexer": "ipython3",
   "version": "3.11.5"
  }
 },
 "nbformat": 4,
 "nbformat_minor": 5
}
