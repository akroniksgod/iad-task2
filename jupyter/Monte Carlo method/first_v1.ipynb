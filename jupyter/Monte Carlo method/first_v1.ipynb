{
 "cells": [
  {
   "cell_type": "code",
   "execution_count": 1,
   "id": "b1ca9952-c39e-458b-82e2-0ccb35687a10",
   "metadata": {},
   "outputs": [
    {
     "name": "stdout",
     "output_type": "stream",
     "text": [
      "Requirement already satisfied: pandas in d:\\python\\python311\\lib\\site-packages (from -r requirements.txt (line 1)) (2.1.1)\n",
      "Requirement already satisfied: matplotlib in d:\\python\\python311\\lib\\site-packages (from -r requirements.txt (line 2)) (3.8.0)\n",
      "Requirement already satisfied: seaborn in d:\\python\\python311\\lib\\site-packages (from -r requirements.txt (line 3)) (0.13.0)\n",
      "Requirement already satisfied: numpy>=1.23.2 in d:\\python\\python311\\lib\\site-packages (from pandas->-r requirements.txt (line 1)) (1.26.0)\n",
      "Requirement already satisfied: python-dateutil>=2.8.2 in d:\\python\\python311\\lib\\site-packages (from pandas->-r requirements.txt (line 1)) (2.8.2)\n",
      "Requirement already satisfied: pytz>=2020.1 in d:\\python\\python311\\lib\\site-packages (from pandas->-r requirements.txt (line 1)) (2023.3.post1)\n",
      "Requirement already satisfied: tzdata>=2022.1 in d:\\python\\python311\\lib\\site-packages (from pandas->-r requirements.txt (line 1)) (2023.3)\n",
      "Requirement already satisfied: contourpy>=1.0.1 in d:\\python\\python311\\lib\\site-packages (from matplotlib->-r requirements.txt (line 2)) (1.1.1)\n",
      "Requirement already satisfied: cycler>=0.10 in d:\\python\\python311\\lib\\site-packages (from matplotlib->-r requirements.txt (line 2)) (0.12.1)\n",
      "Requirement already satisfied: fonttools>=4.22.0 in d:\\python\\python311\\lib\\site-packages (from matplotlib->-r requirements.txt (line 2)) (4.43.1)\n",
      "Requirement already satisfied: kiwisolver>=1.0.1 in d:\\python\\python311\\lib\\site-packages (from matplotlib->-r requirements.txt (line 2)) (1.4.5)\n",
      "Requirement already satisfied: packaging>=20.0 in d:\\python\\python311\\lib\\site-packages (from matplotlib->-r requirements.txt (line 2)) (23.2)\n",
      "Requirement already satisfied: pillow>=6.2.0 in d:\\python\\python311\\lib\\site-packages (from matplotlib->-r requirements.txt (line 2)) (10.0.1)\n",
      "Requirement already satisfied: pyparsing>=2.3.1 in d:\\python\\python311\\lib\\site-packages (from matplotlib->-r requirements.txt (line 2)) (3.1.1)\n",
      "Requirement already satisfied: six>=1.5 in d:\\python\\python311\\lib\\site-packages (from python-dateutil>=2.8.2->pandas->-r requirements.txt (line 1)) (1.16.0)\n"
     ]
    },
    {
     "name": "stderr",
     "output_type": "stream",
     "text": [
      "DEPRECATION: Loading egg at d:\\python\\python311\\lib\\site-packages\\pytelegrambotapi-4.14.0-py3.11.egg is deprecated. pip 23.3 will enforce this behaviour change. A possible replacement is to use pip for package installation..\n"
     ]
    }
   ],
   "source": [
    "!python -m pip install -r requirements.txt"
   ]
  },
  {
   "cell_type": "markdown",
   "id": "040517ed-f96e-44fe-9584-4ac5b9fb8e30",
   "metadata": {},
   "source": [
    "# Подсчёт pi с использованием метода Монте-Карло\r"
   ]
  },
  {
   "cell_type": "markdown",
   "id": "73cf7e45-ff3f-4a3e-afd1-6219c934d55e",
   "metadata": {},
   "source": [
    "## Формулы\n",
    "- square area: $s = (2 r)^2$\n",
    "- circle area: $c = \\pi r^2$\n",
    "- $c/s = (\\pi r^2) / (4 r^2) = \\pi / 4$\n",
    "- $\\pi = 4 * c/s$"
   ]
  },
  {
   "cell_type": "markdown",
   "id": "a348a9e7-79a4-4473-92e8-2edd107a31ed",
   "metadata": {},
   "source": [
    "## Изображение для визуализации концепции\r\n",
    "\n",
    "![Darts](https://raw.githubusercontent.com/coderefinery/jupyter/main/example/darts.sv)\n",
    "\r"
   ]
  },
  {
   "cell_type": "code",
   "execution_count": 1,
   "id": "37db7e32-acdc-4500-8be9-9a2ec2b27529",
   "metadata": {},
   "outputs": [],
   "source": [
    "# Импорт необходимых модулей\n",
    "import random\n",
    "import matplotlib.pyplot as plt"
   ]
  },
  {
   "cell_type": "code",
   "execution_count": 2,
   "id": "19b826c2-f289-4edb-9757-07c4d38c272f",
   "metadata": {},
   "outputs": [],
   "source": [
    "# Инициализация количества \"бросков\"\n",
    "num_points = 1000"
   ]
  },
  {
   "cell_type": "code",
   "execution_count": 3,
   "id": "4184b7e6-b96e-4e5e-960d-a61161a12b18",
   "metadata": {},
   "outputs": [
    {
     "name": "stderr",
     "output_type": "stream",
     "text": [
      "UsageError: Line magic function `%%time` not found.\n"
     ]
    }
   ],
   "source": [
    "# Здесь мы \"бросаем дротики\" и подсчитываем количество попаданий\n",
    "points = []\n",
    "hits = 0\n",
    "for _ in range(num_points):\n",
    "    %%time\n",
    "    %%prun\n",
    "    x, y = random.random(), random.random()\n",
    "    if x*x + y*y < 1.0:\n",
    "        hits += 1\n",
    "        points.append((x, y2, True))\n",
    "    else:\n",
    "        points.append((x, y, \"blue\"))"
   ]
  },
  {
   "cell_type": "code",
   "execution_count": null,
   "id": "48f24aa6-c798-4dfb-8ae8-dec40276a115",
   "metadata": {},
   "outputs": [
    {
     "name": "stdout",
     "output_type": "stream",
     "text": [
      "> \u001b[1;32md:\\python\\python311\\lib\\site-packages\\ipython\\core\\interactiveshell.py\u001b[0m(2412)\u001b[0;36mrun_line_magic\u001b[1;34m()\u001b[0m\n",
      "\u001b[1;32m   2410 \u001b[1;33m            extra = '' if cm is None else (' (But cell magic `%%%%%s` exists, '\n",
      "\u001b[0m\u001b[1;32m   2411 \u001b[1;33m                                    'did you mean that instead?)' % magic_name )\n",
      "\u001b[0m\u001b[1;32m-> 2412 \u001b[1;33m            \u001b[1;32mraise\u001b[0m \u001b[0mUsageError\u001b[0m\u001b[1;33m(\u001b[0m\u001b[0metpl\u001b[0m \u001b[1;33m%\u001b[0m \u001b[1;33m(\u001b[0m\u001b[0mmagic_name\u001b[0m\u001b[1;33m,\u001b[0m \u001b[0mextra\u001b[0m\u001b[1;33m)\u001b[0m\u001b[1;33m)\u001b[0m\u001b[1;33m\u001b[0m\u001b[1;33m\u001b[0m\u001b[0m\n",
      "\u001b[0m\u001b[1;32m   2413 \u001b[1;33m        \u001b[1;32melse\u001b[0m\u001b[1;33m:\u001b[0m\u001b[1;33m\u001b[0m\u001b[1;33m\u001b[0m\u001b[0m\n",
      "\u001b[0m\u001b[1;32m   2414 \u001b[1;33m            \u001b[1;31m# Note: this is the distance in the stack to the user's frame.\u001b[0m\u001b[1;33m\u001b[0m\u001b[1;33m\u001b[0m\u001b[0m\n",
      "\u001b[0m\n"
     ]
    }
   ],
   "source": [
    "# Распакуем точки в 3 списка\n",
    "x, y, colors = zip(*points)\n",
    "\n",
    "# Определяем размеры фигуры\n",
    "fig, ax = plt.subplots() \n",
    "fig.set_size_inches(7.0, 7.0)\n",
    "\n",
    "# Рисуем результат\n",
    "ax.scatter(x, y, c=colors)"
   ]
  },
  {
   "cell_type": "code",
   "execution_count": 6,
   "id": "e336387a-cc82-4995-bd01-2563cb6895c9",
   "metadata": {},
   "outputs": [
    {
     "data": {
      "text/plain": [
       "3.116"
      ]
     },
     "execution_count": 6,
     "metadata": {},
     "output_type": "execute_result"
    }
   ],
   "source": [
    "# Считаем оценку\n",
    "fraction = hits / num_points\n",
    "4 * fraction"
   ]
  },
  {
   "cell_type": "code",
   "execution_count": null,
   "id": "0d94d586-6b2a-49e8-b735-3e4d406a94ea",
   "metadata": {},
   "outputs": [],
   "source": []
  }
 ],
 "metadata": {
  "kernelspec": {
   "display_name": "Python 3 (ipykernel)",
   "language": "python",
   "name": "python3"
  },
  "language_info": {
   "codemirror_mode": {
    "name": "ipython",
    "version": 3
   },
   "file_extension": ".py",
   "mimetype": "text/x-python",
   "name": "python",
   "nbconvert_exporter": "python",
   "pygments_lexer": "ipython3",
   "version": "3.11.5"
  }
 },
 "nbformat": 4,
 "nbformat_minor": 5
}
